{
 "cells": [
  {
   "cell_type": "code",
   "execution_count": 1,
   "metadata": {
    "colab": {
     "base_uri": "https://localhost:8080/"
    },
    "executionInfo": {
     "elapsed": 43118,
     "status": "ok",
     "timestamp": 1604378024668,
     "user": {
      "displayName": "Shobhit Ram Chaurasiya",
      "photoUrl": "https://lh3.googleusercontent.com/a-/AOh14GjItLO18hA7cRs9gw3hKmKcAWXZxol8OQVDIz84Ug=s64",
      "userId": "02246152154574898479"
     },
     "user_tz": -330
    },
    "id": "eGfsfx-_X5KV",
    "outputId": "a629e65e-2ca3-47b6-ff00-5c0eaf780e9a"
   },
   "outputs": [
    {
     "name": "stdout",
     "output_type": "stream",
     "text": [
      "Mounted at /content/drive\n"
     ]
    }
   ],
   "source": [
    "from google.colab import drive\n",
    "drive.mount('/content/drive')"
   ]
  },
  {
   "cell_type": "code",
   "execution_count": null,
   "metadata": {
    "id": "1cnR75qNuc3s"
   },
   "outputs": [],
   "source": [
    "from zipfile import ZipFile"
   ]
  },
  {
   "cell_type": "code",
   "execution_count": null,
   "metadata": {
    "colab": {
     "base_uri": "https://localhost:8080/"
    },
    "executionInfo": {
     "elapsed": 135192,
     "status": "ok",
     "timestamp": 1604338494411,
     "user": {
      "displayName": "Shobhit Ram Chaurasiya",
      "photoUrl": "https://lh3.googleusercontent.com/a-/AOh14GjItLO18hA7cRs9gw3hKmKcAWXZxol8OQVDIz84Ug=s64",
      "userId": "02246152154574898479"
     },
     "user_tz": -330
    },
    "id": "hgoCjAPiudt8",
    "outputId": "5e049d06-a96a-422d-a61a-80236762b325"
   },
   "outputs": [
    {
     "name": "stdout",
     "output_type": "stream",
     "text": [
      "Done!\n"
     ]
    }
   ],
   "source": [
    "file_name = \"/content/drive/My Drive/Colab Notebooks/PLANT DISEASE/archive.zip\"\n",
    "  \n",
    "# opening the zip file in READ mode \n",
    "with ZipFile(file_name, 'r') as zip: \n",
    "    # printing all the contents of the zip file  \n",
    "  \n",
    "    # extracting all the files \n",
    "    zip.extractall() \n",
    "    print('Done!') "
   ]
  },
  {
   "cell_type": "code",
   "execution_count": null,
   "metadata": {
    "_uuid": "92a79257c4d64598a05aa97b9102d61c9b33ed9e",
    "id": "pAO9B15ZU5lz"
   },
   "outputs": [],
   "source": [
    "import os"
   ]
  },
  {
   "cell_type": "code",
   "execution_count": null,
   "metadata": {
    "id": "jsfpX9A4YODO"
   },
   "outputs": [],
   "source": [
    "os.listdir(\"../input/plant-diseases-classification-using-alexnet\")"
   ]
  },
  {
   "cell_type": "markdown",
   "metadata": {
    "_uuid": "f53889b0946d463df9c98d7b265984e1309caaf7",
    "id": "egfeM6IGU5mB"
   },
   "source": [
    "**Building CNN Based On AlexNet Architecture**"
   ]
  },
  {
   "cell_type": "code",
   "execution_count": null,
   "metadata": {
    "id": "_MOCFu3KVEO8"
   },
   "outputs": [],
   "source": [
    "# Importing Keras libraries and packages\n",
    "from keras.models import Sequential\n",
    "from keras.layers import Convolution2D\n",
    "from keras.layers import MaxPooling2D\n",
    "from keras.layers import Flatten\n",
    "from keras.layers import Dense\n",
    "from keras.layers import Dropout\n",
    "from keras.layers.normalization import BatchNormalization"
   ]
  },
  {
   "cell_type": "code",
   "execution_count": null,
   "metadata": {
    "_uuid": "af2fad01907a8eed0474eccf1eb18f9fc1a03c55",
    "id": "MtasVD6mU5mE",
    "scrolled": true
   },
   "outputs": [],
   "source": [
    "# Initializing the CNN\n",
    "classifier = Sequential()\n",
    "\n",
    "# Convolution Step 1\n",
    "classifier.add(Convolution2D(96, 11, strides = (4, 4), padding = 'valid', input_shape=(224, 224, 3), activation = 'relu'))\n",
    "\n",
    "# Max Pooling Step 1\n",
    "classifier.add(MaxPooling2D(pool_size = (2, 2), strides = (2, 2), padding = 'valid'))\n",
    "classifier.add(BatchNormalization())\n",
    "\n",
    "# Convolution Step 2\n",
    "classifier.add(Convolution2D(256, 11, strides = (1, 1), padding='valid', activation = 'relu'))\n",
    "\n",
    "# Max Pooling Step 2\n",
    "classifier.add(MaxPooling2D(pool_size = (2, 2), strides = (2, 2), padding='valid'))\n",
    "classifier.add(BatchNormalization())\n",
    "\n",
    "# Convolution Step 3\n",
    "classifier.add(Convolution2D(384, 3, strides = (1, 1), padding='valid', activation = 'relu'))\n",
    "classifier.add(BatchNormalization())\n",
    "\n",
    "# Convolution Step 4\n",
    "classifier.add(Convolution2D(384, 3, strides = (1, 1), padding='valid', activation = 'relu'))\n",
    "classifier.add(BatchNormalization())\n",
    "\n",
    "# Convolution Step 5\n",
    "classifier.add(Convolution2D(256, 3, strides=(1,1), padding='valid', activation = 'relu'))\n",
    "\n",
    "# Max Pooling Step 3\n",
    "classifier.add(MaxPooling2D(pool_size = (2, 2), strides = (2, 2), padding = 'valid'))\n",
    "classifier.add(BatchNormalization())\n",
    "\n",
    "# Flattening Step\n",
    "classifier.add(Flatten())\n",
    "\n",
    "# Full Connection Step\n",
    "classifier.add(Dense(units = 4096, activation = 'relu'))\n",
    "classifier.add(Dropout(0.4))\n",
    "classifier.add(BatchNormalization())\n",
    "classifier.add(Dense(units = 4096, activation = 'relu'))\n",
    "classifier.add(Dropout(0.4))\n",
    "classifier.add(BatchNormalization())\n",
    "classifier.add(Dense(units = 1000, activation = 'relu'))\n",
    "classifier.add(Dropout(0.2))\n",
    "classifier.add(BatchNormalization())\n",
    "classifier.add(Dense(units = 38, activation = 'softmax'))"
   ]
  },
  {
   "cell_type": "code",
   "execution_count": null,
   "metadata": {
    "colab": {
     "base_uri": "https://localhost:8080/"
    },
    "executionInfo": {
     "elapsed": 8675,
     "status": "ok",
     "timestamp": 1604338503116,
     "user": {
      "displayName": "Shobhit Ram Chaurasiya",
      "photoUrl": "https://lh3.googleusercontent.com/a-/AOh14GjItLO18hA7cRs9gw3hKmKcAWXZxol8OQVDIz84Ug=s64",
      "userId": "02246152154574898479"
     },
     "user_tz": -330
    },
    "id": "L35UDGn-VSo8",
    "outputId": "83f2d812-2eaa-444a-f382-8a785fdd4f44"
   },
   "outputs": [
    {
     "name": "stdout",
     "output_type": "stream",
     "text": [
      "Model: \"sequential\"\n",
      "_________________________________________________________________\n",
      "Layer (type)                 Output Shape              Param #   \n",
      "=================================================================\n",
      "conv2d (Conv2D)              (None, 54, 54, 96)        34944     \n",
      "_________________________________________________________________\n",
      "max_pooling2d (MaxPooling2D) (None, 27, 27, 96)        0         \n",
      "_________________________________________________________________\n",
      "batch_normalization (BatchNo (None, 27, 27, 96)        384       \n",
      "_________________________________________________________________\n",
      "conv2d_1 (Conv2D)            (None, 17, 17, 256)       2973952   \n",
      "_________________________________________________________________\n",
      "max_pooling2d_1 (MaxPooling2 (None, 8, 8, 256)         0         \n",
      "_________________________________________________________________\n",
      "batch_normalization_1 (Batch (None, 8, 8, 256)         1024      \n",
      "_________________________________________________________________\n",
      "conv2d_2 (Conv2D)            (None, 6, 6, 384)         885120    \n",
      "_________________________________________________________________\n",
      "batch_normalization_2 (Batch (None, 6, 6, 384)         1536      \n",
      "_________________________________________________________________\n",
      "conv2d_3 (Conv2D)            (None, 4, 4, 384)         1327488   \n",
      "_________________________________________________________________\n",
      "batch_normalization_3 (Batch (None, 4, 4, 384)         1536      \n",
      "_________________________________________________________________\n",
      "conv2d_4 (Conv2D)            (None, 2, 2, 256)         884992    \n",
      "_________________________________________________________________\n",
      "max_pooling2d_2 (MaxPooling2 (None, 1, 1, 256)         0         \n",
      "_________________________________________________________________\n",
      "batch_normalization_4 (Batch (None, 1, 1, 256)         1024      \n",
      "_________________________________________________________________\n",
      "flatten (Flatten)            (None, 256)               0         \n",
      "_________________________________________________________________\n",
      "dense (Dense)                (None, 4096)              1052672   \n",
      "_________________________________________________________________\n",
      "dropout (Dropout)            (None, 4096)              0         \n",
      "_________________________________________________________________\n",
      "batch_normalization_5 (Batch (None, 4096)              16384     \n",
      "_________________________________________________________________\n",
      "dense_1 (Dense)              (None, 4096)              16781312  \n",
      "_________________________________________________________________\n",
      "dropout_1 (Dropout)          (None, 4096)              0         \n",
      "_________________________________________________________________\n",
      "batch_normalization_6 (Batch (None, 4096)              16384     \n",
      "_________________________________________________________________\n",
      "dense_2 (Dense)              (None, 1000)              4097000   \n",
      "_________________________________________________________________\n",
      "dropout_2 (Dropout)          (None, 1000)              0         \n",
      "_________________________________________________________________\n",
      "batch_normalization_7 (Batch (None, 1000)              4000      \n",
      "_________________________________________________________________\n",
      "dense_3 (Dense)              (None, 38)                38038     \n",
      "=================================================================\n",
      "Total params: 28,117,790\n",
      "Trainable params: 28,096,654\n",
      "Non-trainable params: 21,136\n",
      "_________________________________________________________________\n"
     ]
    }
   ],
   "source": [
    "classifier.summary()"
   ]
  },
  {
   "cell_type": "markdown",
   "metadata": {
    "_uuid": "5ffa474faf670f8c35cf60ce34cf50a713543fa8",
    "id": "nK4BD185U5mQ"
   },
   "source": [
    "**Loading Weights To The Model**"
   ]
  },
  {
   "cell_type": "code",
   "execution_count": null,
   "metadata": {
    "_uuid": "1c7d226d8c6f531024e4fd7c9c434cd136823926",
    "id": "Trgg3Df2U5mS"
   },
   "outputs": [],
   "source": [
    "classifier.load_weights('/content/drive/My Drive/Colab Notebooks/PLANT DISEASE/best_weights_9.hdf5')"
   ]
  },
  {
   "cell_type": "markdown",
   "metadata": {
    "_uuid": "08217a22b90fd2d7fca2307f93d9a17fd28433fa",
    "id": "r_LVm1IVU5me"
   },
   "source": [
    "**Fine Tuning By Freezing Some Layers Of Our Model**"
   ]
  },
  {
   "cell_type": "code",
   "execution_count": null,
   "metadata": {
    "_uuid": "9fddd94297d8e9ad341304b9fae2495cd9b79725",
    "colab": {
     "base_uri": "https://localhost:8080/"
    },
    "executionInfo": {
     "elapsed": 11134,
     "status": "ok",
     "timestamp": 1604338505584,
     "user": {
      "displayName": "Shobhit Ram Chaurasiya",
      "photoUrl": "https://lh3.googleusercontent.com/a-/AOh14GjItLO18hA7cRs9gw3hKmKcAWXZxol8OQVDIz84Ug=s64",
      "userId": "02246152154574898479"
     },
     "user_tz": -330
    },
    "id": "Lsf5krdfU5mg",
    "outputId": "9e520235-51a4-4434-b624-909e35287bab",
    "scrolled": true
   },
   "outputs": [
    {
     "name": "stdout",
     "output_type": "stream",
     "text": [
      "0 conv2d\n",
      "1 max_pooling2d\n",
      "2 batch_normalization\n",
      "3 conv2d_1\n",
      "4 max_pooling2d_1\n",
      "5 batch_normalization_1\n",
      "6 conv2d_2\n",
      "7 batch_normalization_2\n",
      "8 conv2d_3\n",
      "9 batch_normalization_3\n",
      "10 conv2d_4\n",
      "11 max_pooling2d_2\n",
      "12 batch_normalization_4\n",
      "13 flatten\n",
      "14 dense\n",
      "15 dropout\n",
      "16 batch_normalization_5\n",
      "17 dense_1\n",
      "18 dropout_1\n",
      "19 batch_normalization_6\n",
      "20 dense_2\n",
      "21 dropout_2\n",
      "22 batch_normalization_7\n",
      "23 dense_3\n"
     ]
    }
   ],
   "source": [
    "# let's visualize layer names and layer indices to see how many layers\n",
    "# we should freeze:\n",
    "from keras import layers\n",
    "for i, layer in enumerate(classifier.layers):\n",
    "   print(i, layer.name)"
   ]
  },
  {
   "cell_type": "code",
   "execution_count": null,
   "metadata": {
    "_uuid": "086c14cae8141a28e3092d0b9bef20ff30435d6b",
    "colab": {
     "base_uri": "https://localhost:8080/"
    },
    "executionInfo": {
     "elapsed": 11128,
     "status": "ok",
     "timestamp": 1604338505585,
     "user": {
      "displayName": "Shobhit Ram Chaurasiya",
      "photoUrl": "https://lh3.googleusercontent.com/a-/AOh14GjItLO18hA7cRs9gw3hKmKcAWXZxol8OQVDIz84Ug=s64",
      "userId": "02246152154574898479"
     },
     "user_tz": -330
    },
    "id": "y6r2vG8RU5ms",
    "outputId": "d5c2cc85-b37c-47d5-b0e2-5b2efd08447c",
    "scrolled": true
   },
   "outputs": [
    {
     "name": "stdout",
     "output_type": "stream",
     "text": [
      "Freezed layers:\n",
      "0 conv2d\n",
      "1 max_pooling2d\n",
      "2 batch_normalization\n",
      "3 conv2d_1\n",
      "4 max_pooling2d_1\n",
      "5 batch_normalization_1\n",
      "6 conv2d_2\n",
      "7 batch_normalization_2\n",
      "8 conv2d_3\n",
      "9 batch_normalization_3\n",
      "10 conv2d_4\n",
      "11 max_pooling2d_2\n",
      "12 batch_normalization_4\n",
      "13 flatten\n",
      "14 dense\n",
      "15 dropout\n",
      "16 batch_normalization_5\n",
      "17 dense_1\n",
      "18 dropout_1\n",
      "19 batch_normalization_6\n"
     ]
    }
   ],
   "source": [
    "# we chose to train the top 2 conv blocks, i.e. we will freeze\n",
    "# the first 8 layers and unfreeze the rest:\n",
    "print(\"Freezed layers:\")\n",
    "for i, layer in enumerate(classifier.layers[:20]):\n",
    "    print(i, layer.name)\n",
    "    layer.trainable = False"
   ]
  },
  {
   "cell_type": "markdown",
   "metadata": {
    "_uuid": "4f188a43baf34e7e3385ef3d85c08dac2dd95e5a",
    "id": "B62WpJ8DU5m3"
   },
   "source": [
    "**Model Summary After Freezing**"
   ]
  },
  {
   "cell_type": "code",
   "execution_count": null,
   "metadata": {
    "_uuid": "1968e72ca3ad31e10e18a7f8c8628fe8a6e51591",
    "colab": {
     "base_uri": "https://localhost:8080/"
    },
    "executionInfo": {
     "elapsed": 11120,
     "status": "ok",
     "timestamp": 1604338505585,
     "user": {
      "displayName": "Shobhit Ram Chaurasiya",
      "photoUrl": "https://lh3.googleusercontent.com/a-/AOh14GjItLO18hA7cRs9gw3hKmKcAWXZxol8OQVDIz84Ug=s64",
      "userId": "02246152154574898479"
     },
     "user_tz": -330
    },
    "id": "ise8OB24U5m5",
    "outputId": "64ca447c-ffb7-4d0c-d8fd-e576d3ef4ef3",
    "scrolled": true
   },
   "outputs": [
    {
     "name": "stdout",
     "output_type": "stream",
     "text": [
      "Model: \"sequential\"\n",
      "_________________________________________________________________\n",
      "Layer (type)                 Output Shape              Param #   \n",
      "=================================================================\n",
      "conv2d (Conv2D)              (None, 54, 54, 96)        34944     \n",
      "_________________________________________________________________\n",
      "max_pooling2d (MaxPooling2D) (None, 27, 27, 96)        0         \n",
      "_________________________________________________________________\n",
      "batch_normalization (BatchNo (None, 27, 27, 96)        384       \n",
      "_________________________________________________________________\n",
      "conv2d_1 (Conv2D)            (None, 17, 17, 256)       2973952   \n",
      "_________________________________________________________________\n",
      "max_pooling2d_1 (MaxPooling2 (None, 8, 8, 256)         0         \n",
      "_________________________________________________________________\n",
      "batch_normalization_1 (Batch (None, 8, 8, 256)         1024      \n",
      "_________________________________________________________________\n",
      "conv2d_2 (Conv2D)            (None, 6, 6, 384)         885120    \n",
      "_________________________________________________________________\n",
      "batch_normalization_2 (Batch (None, 6, 6, 384)         1536      \n",
      "_________________________________________________________________\n",
      "conv2d_3 (Conv2D)            (None, 4, 4, 384)         1327488   \n",
      "_________________________________________________________________\n",
      "batch_normalization_3 (Batch (None, 4, 4, 384)         1536      \n",
      "_________________________________________________________________\n",
      "conv2d_4 (Conv2D)            (None, 2, 2, 256)         884992    \n",
      "_________________________________________________________________\n",
      "max_pooling2d_2 (MaxPooling2 (None, 1, 1, 256)         0         \n",
      "_________________________________________________________________\n",
      "batch_normalization_4 (Batch (None, 1, 1, 256)         1024      \n",
      "_________________________________________________________________\n",
      "flatten (Flatten)            (None, 256)               0         \n",
      "_________________________________________________________________\n",
      "dense (Dense)                (None, 4096)              1052672   \n",
      "_________________________________________________________________\n",
      "dropout (Dropout)            (None, 4096)              0         \n",
      "_________________________________________________________________\n",
      "batch_normalization_5 (Batch (None, 4096)              16384     \n",
      "_________________________________________________________________\n",
      "dense_1 (Dense)              (None, 4096)              16781312  \n",
      "_________________________________________________________________\n",
      "dropout_1 (Dropout)          (None, 4096)              0         \n",
      "_________________________________________________________________\n",
      "batch_normalization_6 (Batch (None, 4096)              16384     \n",
      "_________________________________________________________________\n",
      "dense_2 (Dense)              (None, 1000)              4097000   \n",
      "_________________________________________________________________\n",
      "dropout_2 (Dropout)          (None, 1000)              0         \n",
      "_________________________________________________________________\n",
      "batch_normalization_7 (Batch (None, 1000)              4000      \n",
      "_________________________________________________________________\n",
      "dense_3 (Dense)              (None, 38)                38038     \n",
      "=================================================================\n",
      "Total params: 28,117,790\n",
      "Trainable params: 4,137,038\n",
      "Non-trainable params: 23,980,752\n",
      "_________________________________________________________________\n"
     ]
    }
   ],
   "source": [
    "#trainable parameters decrease after freezing some bottom layers   \n",
    "classifier.summary()"
   ]
  },
  {
   "cell_type": "markdown",
   "metadata": {
    "_uuid": "84979b7759e5b0b7b6df16b4e89973a599b828b0",
    "id": "4NrKd641U5nD"
   },
   "source": [
    "**Compiling the Model**"
   ]
  },
  {
   "cell_type": "code",
   "execution_count": null,
   "metadata": {
    "_uuid": "e948e04a3d87563a1f3b14ed27aefecca83f9c34",
    "id": "MUn97hgPU5nE"
   },
   "outputs": [],
   "source": [
    "# Compiling the Model\n",
    "from keras import optimizers\n",
    "classifier.compile(optimizer=optimizers.SGD(lr=0.001, momentum=0.9, decay=0.005),\n",
    "              loss='categorical_crossentropy',\n",
    "              metrics=['accuracy'])"
   ]
  },
  {
   "cell_type": "markdown",
   "metadata": {
    "_uuid": "44a0eac6f578b76ecafc1bb35e6c5e87ff7db9f9",
    "id": "3zsUNyYNU5nK"
   },
   "source": [
    "**Image Preprocessing**"
   ]
  },
  {
   "cell_type": "code",
   "execution_count": null,
   "metadata": {
    "_uuid": "adc8517ab6e8a4746666f4af0a6345438c3ef625",
    "id": "89RuSbqEU5nM"
   },
   "outputs": [],
   "source": [
    "# image preprocessing\n",
    "from keras.preprocessing.image import ImageDataGenerator\n",
    "\n",
    "train_datagen = ImageDataGenerator(rescale=1./255,\n",
    "                                   shear_range=0.2,\n",
    "                                   zoom_range=0.2,\n",
    "                                   width_shift_range=0.2,\n",
    "                                   height_shift_range=0.2,\n",
    "                                   fill_mode='nearest')\n",
    "\n",
    "valid_datagen = ImageDataGenerator(rescale=1./255)\n",
    "\n",
    "batch_size = 128"
   ]
  },
  {
   "cell_type": "code",
   "execution_count": null,
   "metadata": {
    "colab": {
     "base_uri": "https://localhost:8080/"
    },
    "executionInfo": {
     "elapsed": 2439,
     "status": "ok",
     "timestamp": 1604338621854,
     "user": {
      "displayName": "Shobhit Ram Chaurasiya",
      "photoUrl": "https://lh3.googleusercontent.com/a-/AOh14GjItLO18hA7cRs9gw3hKmKcAWXZxol8OQVDIz84Ug=s64",
      "userId": "02246152154574898479"
     },
     "user_tz": -330
    },
    "id": "2KHhxtN5XcLC",
    "outputId": "7fdaaa72-4751-4e89-e346-dec4225852b8"
   },
   "outputs": [
    {
     "name": "stdout",
     "output_type": "stream",
     "text": [
      "Found 70295 images belonging to 38 classes.\n",
      "Found 17572 images belonging to 38 classes.\n"
     ]
    }
   ],
   "source": [
    "base_dir = \"\"\n",
    "\n",
    "training_set = train_datagen.flow_from_directory('/content/new plant diseases dataset(augmented)/New Plant Diseases Dataset(Augmented)/train',\n",
    "                                                 target_size=(224, 224),\n",
    "                                                 batch_size=batch_size,\n",
    "                                                 class_mode='categorical')\n",
    "\n",
    "valid_set = valid_datagen.flow_from_directory('/content/new plant diseases dataset(augmented)/New Plant Diseases Dataset(Augmented)/valid',\n",
    "                                            target_size=(224, 224),\n",
    "                                            batch_size=batch_size,\n",
    "                                             class_mode='categorical')"
   ]
  },
  {
   "cell_type": "code",
   "execution_count": null,
   "metadata": {
    "_uuid": "be12101d992982e4ac69398ae6e2502f65257993",
    "colab": {
     "base_uri": "https://localhost:8080/"
    },
    "executionInfo": {
     "elapsed": 1322,
     "status": "ok",
     "timestamp": 1604338626478,
     "user": {
      "displayName": "Shobhit Ram Chaurasiya",
      "photoUrl": "https://lh3.googleusercontent.com/a-/AOh14GjItLO18hA7cRs9gw3hKmKcAWXZxol8OQVDIz84Ug=s64",
      "userId": "02246152154574898479"
     },
     "user_tz": -330
    },
    "id": "QeWSApdHU5nR",
    "outputId": "848b98e0-4cfa-41ef-d174-4de8c311bc33"
   },
   "outputs": [
    {
     "name": "stdout",
     "output_type": "stream",
     "text": [
      "{'Apple___Apple_scab': 0, 'Apple___Black_rot': 1, 'Apple___Cedar_apple_rust': 2, 'Apple___healthy': 3, 'Blueberry___healthy': 4, 'Cherry_(including_sour)___Powdery_mildew': 5, 'Cherry_(including_sour)___healthy': 6, 'Corn_(maize)___Cercospora_leaf_spot Gray_leaf_spot': 7, 'Corn_(maize)___Common_rust_': 8, 'Corn_(maize)___Northern_Leaf_Blight': 9, 'Corn_(maize)___healthy': 10, 'Grape___Black_rot': 11, 'Grape___Esca_(Black_Measles)': 12, 'Grape___Leaf_blight_(Isariopsis_Leaf_Spot)': 13, 'Grape___healthy': 14, 'Orange___Haunglongbing_(Citrus_greening)': 15, 'Peach___Bacterial_spot': 16, 'Peach___healthy': 17, 'Pepper,_bell___Bacterial_spot': 18, 'Pepper,_bell___healthy': 19, 'Potato___Early_blight': 20, 'Potato___Late_blight': 21, 'Potato___healthy': 22, 'Raspberry___healthy': 23, 'Soybean___healthy': 24, 'Squash___Powdery_mildew': 25, 'Strawberry___Leaf_scorch': 26, 'Strawberry___healthy': 27, 'Tomato___Bacterial_spot': 28, 'Tomato___Early_blight': 29, 'Tomato___Late_blight': 30, 'Tomato___Leaf_Mold': 31, 'Tomato___Septoria_leaf_spot': 32, 'Tomato___Spider_mites Two-spotted_spider_mite': 33, 'Tomato___Target_Spot': 34, 'Tomato___Tomato_Yellow_Leaf_Curl_Virus': 35, 'Tomato___Tomato_mosaic_virus': 36, 'Tomato___healthy': 37}\n"
     ]
    }
   ],
   "source": [
    "class_dict = training_set.class_indices\n",
    "print(class_dict)"
   ]
  },
  {
   "cell_type": "code",
   "execution_count": null,
   "metadata": {
    "_uuid": "2531bd998202c56dfa9d4e156a5879e560bb9037",
    "colab": {
     "base_uri": "https://localhost:8080/"
    },
    "executionInfo": {
     "elapsed": 726,
     "status": "ok",
     "timestamp": 1604338627945,
     "user": {
      "displayName": "Shobhit Ram Chaurasiya",
      "photoUrl": "https://lh3.googleusercontent.com/a-/AOh14GjItLO18hA7cRs9gw3hKmKcAWXZxol8OQVDIz84Ug=s64",
      "userId": "02246152154574898479"
     },
     "user_tz": -330
    },
    "id": "P-l7JariU5nU",
    "outputId": "d56de4b8-346d-4ba0-a0f0-0cb433a5a7d3"
   },
   "outputs": [
    {
     "name": "stdout",
     "output_type": "stream",
     "text": [
      "['Apple___Apple_scab', 'Apple___Black_rot', 'Apple___Cedar_apple_rust', 'Apple___healthy', 'Blueberry___healthy', 'Cherry_(including_sour)___Powdery_mildew', 'Cherry_(including_sour)___healthy', 'Corn_(maize)___Cercospora_leaf_spot Gray_leaf_spot', 'Corn_(maize)___Common_rust_', 'Corn_(maize)___Northern_Leaf_Blight', 'Corn_(maize)___healthy', 'Grape___Black_rot', 'Grape___Esca_(Black_Measles)', 'Grape___Leaf_blight_(Isariopsis_Leaf_Spot)', 'Grape___healthy', 'Orange___Haunglongbing_(Citrus_greening)', 'Peach___Bacterial_spot', 'Peach___healthy', 'Pepper,_bell___Bacterial_spot', 'Pepper,_bell___healthy', 'Potato___Early_blight', 'Potato___Late_blight', 'Potato___healthy', 'Raspberry___healthy', 'Soybean___healthy', 'Squash___Powdery_mildew', 'Strawberry___Leaf_scorch', 'Strawberry___healthy', 'Tomato___Bacterial_spot', 'Tomato___Early_blight', 'Tomato___Late_blight', 'Tomato___Leaf_Mold', 'Tomato___Septoria_leaf_spot', 'Tomato___Spider_mites Two-spotted_spider_mite', 'Tomato___Target_Spot', 'Tomato___Tomato_Yellow_Leaf_Curl_Virus', 'Tomato___Tomato_mosaic_virus', 'Tomato___healthy']\n"
     ]
    }
   ],
   "source": [
    "li = list(class_dict.keys())\n",
    "print(li)"
   ]
  },
  {
   "cell_type": "code",
   "execution_count": null,
   "metadata": {
    "_uuid": "7417faee3c80b35ef2d94d59ddf94e0b4c12bb7c",
    "id": "hJzGB5yBU5nb"
   },
   "outputs": [],
   "source": [
    "train_num = training_set.samples\n",
    "valid_num = valid_set.samples"
   ]
  },
  {
   "cell_type": "code",
   "execution_count": null,
   "metadata": {
    "_uuid": "232d2543395e74045d5181f51b75064c2683f2fb",
    "id": "Ze0lKoB2U5ne"
   },
   "outputs": [],
   "source": [
    "# checkpoint\n",
    "from keras.callbacks import ModelCheckpoint\n",
    "weightpath = \"/content/drive/My Drive/Colab Notebooks/PLANT DISEASE/best_weights_9.hdf5\"\n",
    "checkpoint = ModelCheckpoint(weightpath, monitor='val_acc', verbose=1, save_best_only=True, save_weights_only=True, mode='max')\n",
    "callbacks_list = [checkpoint]"
   ]
  },
  {
   "cell_type": "code",
   "execution_count": null,
   "metadata": {
    "colab": {
     "base_uri": "https://localhost:8080/"
    },
    "executionInfo": {
     "elapsed": 8797128,
     "status": "ok",
     "timestamp": 1604347490843,
     "user": {
      "displayName": "Shobhit Ram Chaurasiya",
      "photoUrl": "https://lh3.googleusercontent.com/a-/AOh14GjItLO18hA7cRs9gw3hKmKcAWXZxol8OQVDIz84Ug=s64",
      "userId": "02246152154574898479"
     },
     "user_tz": -330
    },
    "id": "PVmmcMXsYhcX",
    "outputId": "1ee38623-0bbc-44ba-b49b-7a454c00753d"
   },
   "outputs": [
    {
     "name": "stdout",
     "output_type": "stream",
     "text": [
      "WARNING:tensorflow:From <ipython-input-19-ab329568b07f>:7: Model.fit_generator (from tensorflow.python.keras.engine.training) is deprecated and will be removed in a future version.\n",
      "Instructions for updating:\n",
      "Please use Model.fit, which supports generators.\n",
      "Epoch 1/11\n",
      "549/549 [==============================] - ETA: 0s - loss: 0.0999 - accuracy: 0.9665WARNING:tensorflow:Can save best model only with val_acc available, skipping.\n",
      "549/549 [==============================] - 770s 1s/step - loss: 0.0999 - accuracy: 0.9665 - val_loss: 0.0733 - val_accuracy: 0.9749\n",
      "Epoch 2/11\n",
      "549/549 [==============================] - ETA: 0s - loss: 0.0943 - accuracy: 0.9687WARNING:tensorflow:Can save best model only with val_acc available, skipping.\n",
      "549/549 [==============================] - 764s 1s/step - loss: 0.0943 - accuracy: 0.9687 - val_loss: 0.0721 - val_accuracy: 0.9753\n",
      "Epoch 3/11\n",
      "549/549 [==============================] - ETA: 0s - loss: 0.0905 - accuracy: 0.9705WARNING:tensorflow:Can save best model only with val_acc available, skipping.\n",
      "549/549 [==============================] - 773s 1s/step - loss: 0.0905 - accuracy: 0.9705 - val_loss: 0.0709 - val_accuracy: 0.9754\n",
      "Epoch 4/11\n",
      "549/549 [==============================] - ETA: 0s - loss: 0.0937 - accuracy: 0.9691WARNING:tensorflow:Can save best model only with val_acc available, skipping.\n",
      "549/549 [==============================] - 775s 1s/step - loss: 0.0937 - accuracy: 0.9691 - val_loss: 0.0704 - val_accuracy: 0.9757\n",
      "Epoch 5/11\n",
      "549/549 [==============================] - ETA: 0s - loss: 0.0910 - accuracy: 0.9707WARNING:tensorflow:Can save best model only with val_acc available, skipping.\n",
      "549/549 [==============================] - 820s 1s/step - loss: 0.0910 - accuracy: 0.9707 - val_loss: 0.0702 - val_accuracy: 0.9760\n",
      "Epoch 6/11\n",
      "549/549 [==============================] - ETA: 0s - loss: 0.0917 - accuracy: 0.9704WARNING:tensorflow:Can save best model only with val_acc available, skipping.\n",
      "549/549 [==============================] - 812s 1s/step - loss: 0.0917 - accuracy: 0.9704 - val_loss: 0.0695 - val_accuracy: 0.9763\n",
      "Epoch 7/11\n",
      "549/549 [==============================] - ETA: 0s - loss: 0.0933 - accuracy: 0.9692WARNING:tensorflow:Can save best model only with val_acc available, skipping.\n",
      "549/549 [==============================] - 816s 1s/step - loss: 0.0933 - accuracy: 0.9692 - val_loss: 0.0697 - val_accuracy: 0.9767\n",
      "Epoch 8/11\n",
      "549/549 [==============================] - ETA: 0s - loss: 0.0905 - accuracy: 0.9699WARNING:tensorflow:Can save best model only with val_acc available, skipping.\n",
      "549/549 [==============================] - 813s 1s/step - loss: 0.0905 - accuracy: 0.9699 - val_loss: 0.0698 - val_accuracy: 0.9763\n",
      "Epoch 9/11\n",
      "549/549 [==============================] - ETA: 0s - loss: 0.0934 - accuracy: 0.9696WARNING:tensorflow:Can save best model only with val_acc available, skipping.\n",
      "549/549 [==============================] - 798s 1s/step - loss: 0.0934 - accuracy: 0.9696 - val_loss: 0.0697 - val_accuracy: 0.9764\n",
      "Epoch 10/11\n",
      "549/549 [==============================] - ETA: 0s - loss: 0.0894 - accuracy: 0.9699WARNING:tensorflow:Can save best model only with val_acc available, skipping.\n",
      "549/549 [==============================] - 815s 1s/step - loss: 0.0894 - accuracy: 0.9699 - val_loss: 0.0690 - val_accuracy: 0.9765\n",
      "Epoch 11/11\n",
      "549/549 [==============================] - ETA: 0s - loss: 0.0912 - accuracy: 0.9704WARNING:tensorflow:Can save best model only with val_acc available, skipping.\n",
      "549/549 [==============================] - 814s 1s/step - loss: 0.0912 - accuracy: 0.9704 - val_loss: 0.0693 - val_accuracy: 0.9766\n"
     ]
    }
   ],
   "source": [
    "#fitting images to CNN\n",
    "history = classifier.fit_generator(training_set,\n",
    "                         steps_per_epoch=train_num//batch_size,\n",
    "                         validation_data=valid_set,\n",
    "                         epochs=11,\n",
    "                         validation_steps=valid_num//batch_size,\n",
    "                         callbacks=callbacks_list)"
   ]
  },
  {
   "cell_type": "code",
   "execution_count": null,
   "metadata": {
    "id": "O1_Sj2BGYhj-"
   },
   "outputs": [],
   "source": [
    "#saving model\n",
    "filepath=\"/content/drive/My Drive/Colab Notebooks/PLANT DISEASE/model.hdf5\"\n",
    "classifier.save(filepath)"
   ]
  },
  {
   "cell_type": "code",
   "execution_count": null,
   "metadata": {
    "id": "Q9G2gbpHvFmw"
   },
   "outputs": [],
   "source": [
    "import pickle"
   ]
  },
  {
   "cell_type": "code",
   "execution_count": null,
   "metadata": {
    "colab": {
     "base_uri": "https://localhost:8080/",
     "height": 178
    },
    "executionInfo": {
     "elapsed": 1187,
     "status": "error",
     "timestamp": 1604350595818,
     "user": {
      "displayName": "Shobhit Ram Chaurasiya",
      "photoUrl": "https://lh3.googleusercontent.com/a-/AOh14GjItLO18hA7cRs9gw3hKmKcAWXZxol8OQVDIz84Ug=s64",
      "userId": "02246152154574898479"
     },
     "user_tz": -330
    },
    "id": "p1ES7rvYC-W-",
    "outputId": "f3314074-e8ed-48cc-d44a-00f601bcd59d"
   },
   "outputs": [
    {
     "ename": "TypeError",
     "evalue": "ignored",
     "output_type": "error",
     "traceback": [
      "\u001b[0;31m---------------------------------------------------------------------------\u001b[0m",
      "\u001b[0;31mTypeError\u001b[0m                                 Traceback (most recent call last)",
      "\u001b[0;32m<ipython-input-24-7e21d011a3c8>\u001b[0m in \u001b[0;36m<module>\u001b[0;34m()\u001b[0m\n\u001b[1;32m      1\u001b[0m \u001b[0mfilename\u001b[0m \u001b[0;34m=\u001b[0m \u001b[0;34m'/content/drive/My Drive/Colab Notebooks/PLANT DISEASE/plant_model.pkl'\u001b[0m\u001b[0;34m\u001b[0m\u001b[0;34m\u001b[0m\u001b[0m\n\u001b[0;32m----> 2\u001b[0;31m \u001b[0mpickle\u001b[0m\u001b[0;34m.\u001b[0m\u001b[0mdump\u001b[0m\u001b[0;34m(\u001b[0m\u001b[0mclassifier\u001b[0m\u001b[0;34m,\u001b[0m \u001b[0mopen\u001b[0m\u001b[0;34m(\u001b[0m\u001b[0mfilename\u001b[0m\u001b[0;34m,\u001b[0m \u001b[0;34m'wb'\u001b[0m\u001b[0;34m)\u001b[0m\u001b[0;34m)\u001b[0m\u001b[0;34m\u001b[0m\u001b[0;34m\u001b[0m\u001b[0m\n\u001b[0m",
      "\u001b[0;31mTypeError\u001b[0m: can't pickle _thread.RLock objects"
     ]
    }
   ],
   "source": [
    "filename = '/content/drive/My Drive/Colab Notebooks/PLANT DISEASE/plant_model.pkl'\n",
    "pickle.dump(classifier, open(filename, 'wb'))"
   ]
  },
  {
   "cell_type": "markdown",
   "metadata": {
    "_uuid": "db1d7eecfff95a4ad80d96dee3ef45d4360486c9",
    "id": "cPLJA2fQU5ni"
   },
   "source": [
    "**Visualising Training Progress**"
   ]
  },
  {
   "cell_type": "code",
   "execution_count": null,
   "metadata": {
    "_uuid": "9d4090ff76d659e769c6e9d5bde191b09302b098",
    "colab": {
     "base_uri": "https://localhost:8080/",
     "height": 229
    },
    "executionInfo": {
     "elapsed": 1807,
     "status": "error",
     "timestamp": 1604350603250,
     "user": {
      "displayName": "Shobhit Ram Chaurasiya",
      "photoUrl": "https://lh3.googleusercontent.com/a-/AOh14GjItLO18hA7cRs9gw3hKmKcAWXZxol8OQVDIz84Ug=s64",
      "userId": "02246152154574898479"
     },
     "user_tz": -330
    },
    "id": "UzCb65I7U5nj",
    "outputId": "7aa9d053-637b-4f0d-d913-7c5cca2c0649"
   },
   "outputs": [
    {
     "ename": "KeyError",
     "evalue": "ignored",
     "output_type": "error",
     "traceback": [
      "\u001b[0;31m---------------------------------------------------------------------------\u001b[0m",
      "\u001b[0;31mKeyError\u001b[0m                                  Traceback (most recent call last)",
      "\u001b[0;32m<ipython-input-25-ed133565cd23>\u001b[0m in \u001b[0;36m<module>\u001b[0;34m()\u001b[0m\n\u001b[1;32m      4\u001b[0m \u001b[0msns\u001b[0m\u001b[0;34m.\u001b[0m\u001b[0mset\u001b[0m\u001b[0;34m(\u001b[0m\u001b[0;34m)\u001b[0m\u001b[0;34m\u001b[0m\u001b[0;34m\u001b[0m\u001b[0m\n\u001b[1;32m      5\u001b[0m \u001b[0;34m\u001b[0m\u001b[0m\n\u001b[0;32m----> 6\u001b[0;31m \u001b[0macc\u001b[0m \u001b[0;34m=\u001b[0m \u001b[0mhistory\u001b[0m\u001b[0;34m.\u001b[0m\u001b[0mhistory\u001b[0m\u001b[0;34m[\u001b[0m\u001b[0;34m'acc'\u001b[0m\u001b[0;34m]\u001b[0m\u001b[0;34m\u001b[0m\u001b[0;34m\u001b[0m\u001b[0m\n\u001b[0m\u001b[1;32m      7\u001b[0m \u001b[0mval_acc\u001b[0m \u001b[0;34m=\u001b[0m \u001b[0mhistory\u001b[0m\u001b[0;34m.\u001b[0m\u001b[0mhistory\u001b[0m\u001b[0;34m[\u001b[0m\u001b[0;34m'val_acc'\u001b[0m\u001b[0;34m]\u001b[0m\u001b[0;34m\u001b[0m\u001b[0;34m\u001b[0m\u001b[0m\n\u001b[1;32m      8\u001b[0m \u001b[0mloss\u001b[0m \u001b[0;34m=\u001b[0m \u001b[0mhistory\u001b[0m\u001b[0;34m.\u001b[0m\u001b[0mhistory\u001b[0m\u001b[0;34m[\u001b[0m\u001b[0;34m'loss'\u001b[0m\u001b[0;34m]\u001b[0m\u001b[0;34m\u001b[0m\u001b[0;34m\u001b[0m\u001b[0m\n",
      "\u001b[0;31mKeyError\u001b[0m: 'acc'"
     ]
    }
   ],
   "source": [
    "#plotting training values\n",
    "import matplotlib.pyplot as plt\n",
    "import seaborn as sns\n",
    "sns.set()\n",
    "\n",
    "acc = history.history['acc']\n",
    "val_acc = history.history['val_acc']\n",
    "loss = history.history['loss']\n",
    "val_loss = history.history['val_loss']\n",
    "epochs = range(1, len(loss) + 1)\n",
    "\n",
    "#accuracy plot\n",
    "plt.plot(epochs, acc, color='green', label='Training Accuracy')\n",
    "plt.plot(epochs, val_acc, color='blue', label='Validation Accuracy')\n",
    "plt.title('Training and Validation Accuracy')\n",
    "plt.ylabel('Accuracy')\n",
    "plt.xlabel('Epoch')\n",
    "plt.legend()\n",
    "\n",
    "plt.figure()\n",
    "#loss plot\n",
    "plt.plot(epochs, loss, color='pink', label='Training Loss')\n",
    "plt.plot(epochs, val_loss, color='red', label='Validation Loss')\n",
    "plt.title('Training and Validation Loss')\n",
    "plt.xlabel('Epoch')\n",
    "plt.ylabel('Loss')\n",
    "plt.legend()\n",
    "\n",
    "plt.show()"
   ]
  },
  {
   "cell_type": "markdown",
   "metadata": {
    "_uuid": "41ce7e2c92640cab238862be76bc215c5276e1b0",
    "id": "hEnfXyp3U5nm"
   },
   "source": [
    "**Predicting New Test Image(s)**"
   ]
  },
  {
   "cell_type": "code",
   "execution_count": null,
   "metadata": {
    "_uuid": "d7555c94c00798f04c7bbc0d2ddc4e50e20c7d16",
    "id": "hQQNXAcvU5nm"
   },
   "outputs": [],
   "source": [
    "# predicting an image\n",
    "from keras.preprocessing import image\n",
    "import numpy as np\n",
    "image_path = \"/content/test/test/AppleScab1.JPG\"\n",
    "new_img = image.load_img(image_path, target_size=(224, 224))\n",
    "img = image.img_to_array(new_img)\n",
    "img = np.expand_dims(img, axis=0)\n",
    "img = img/255"
   ]
  },
  {
   "cell_type": "code",
   "execution_count": null,
   "metadata": {
    "colab": {
     "base_uri": "https://localhost:8080/"
    },
    "executionInfo": {
     "elapsed": 1196,
     "status": "ok",
     "timestamp": 1604350638028,
     "user": {
      "displayName": "Shobhit Ram Chaurasiya",
      "photoUrl": "https://lh3.googleusercontent.com/a-/AOh14GjItLO18hA7cRs9gw3hKmKcAWXZxol8OQVDIz84Ug=s64",
      "userId": "02246152154574898479"
     },
     "user_tz": -330
    },
    "id": "soIe8boWZDNS",
    "outputId": "c4b4f36c-f544-4c6d-d1fa-cd5760f80de7"
   },
   "outputs": [
    {
     "name": "stdout",
     "output_type": "stream",
     "text": [
      "Following is our prediction:\n"
     ]
    }
   ],
   "source": [
    "print(\"Following is our prediction:\")\n",
    "prediction = classifier.predict(img)"
   ]
  },
  {
   "cell_type": "code",
   "execution_count": null,
   "metadata": {
    "id": "gW4A_VWsY-bb"
   },
   "outputs": [],
   "source": [
    "d = prediction.flatten()\n",
    "j = d.max()\n",
    "for index,item in enumerate(d):\n",
    "    if item == j:\n",
    "        class_name = li[index]"
   ]
  },
  {
   "cell_type": "code",
   "execution_count": null,
   "metadata": {
    "id": "zQDcCvu-ZAf_"
   },
   "outputs": [],
   "source": [
    "##Another way\n",
    "# img_class = classifier.predict_classes(img)\n",
    "# img_prob = classifier.predict_proba(img)\n",
    "# print(img_class ,img_prob )"
   ]
  },
  {
   "cell_type": "code",
   "execution_count": null,
   "metadata": {
    "colab": {
     "base_uri": "https://localhost:8080/",
     "height": 264
    },
    "executionInfo": {
     "elapsed": 1778,
     "status": "ok",
     "timestamp": 1604350647054,
     "user": {
      "displayName": "Shobhit Ram Chaurasiya",
      "photoUrl": "https://lh3.googleusercontent.com/a-/AOh14GjItLO18hA7cRs9gw3hKmKcAWXZxol8OQVDIz84Ug=s64",
      "userId": "02246152154574898479"
     },
     "user_tz": -330
    },
    "id": "uvX143hgZFFn",
    "outputId": "bd8caaad-db5f-4ec4-bdb2-777a3e978d13"
   },
   "outputs": [
    {
     "data": {
      "image/png": "[encoded data removed]",
      "text/plain": [
       "<Figure size 288x288 with 1 Axes>"
      ]
     },
     "metadata": {
      "tags": []
     },
     "output_type": "display_data"
    }
   ],
   "source": [
    "#ploting image with predicted class name        \n",
    "plt.figure(figsize = (4,4))\n",
    "plt.imshow(new_img)\n",
    "plt.axis('off')\n",
    "plt.title(class_name)\n",
    "plt.show()"
   ]
  },
  {
   "cell_type": "markdown",
   "metadata": {
    "id": "gUzI-Cl3X3pD"
   },
   "source": [
    "# RUF TRY"
   ]
  },
  {
   "cell_type": "code",
   "execution_count": 2,
   "metadata": {
    "executionInfo": {
     "elapsed": 10670,
     "status": "ok",
     "timestamp": 1604378061749,
     "user": {
      "displayName": "Shobhit Ram Chaurasiya",
      "photoUrl": "https://lh3.googleusercontent.com/a-/AOh14GjItLO18hA7cRs9gw3hKmKcAWXZxol8OQVDIz84Ug=s64",
      "userId": "02246152154574898479"
     },
     "user_tz": -330
    },
    "id": "zLAIYXgPXxLl"
   },
   "outputs": [],
   "source": [
    "from tensorflow import keras\n",
    "model = keras.models.load_model('/content/drive/My Drive/Colab Notebooks/PLANT DISEASE/model.hdf5')"
   ]
  },
  {
   "cell_type": "code",
   "execution_count": 3,
   "metadata": {
    "colab": {
     "base_uri": "https://localhost:8080/"
    },
    "executionInfo": {
     "elapsed": 1442,
     "status": "ok",
     "timestamp": 1604378075301,
     "user": {
      "displayName": "Shobhit Ram Chaurasiya",
      "photoUrl": "https://lh3.googleusercontent.com/a-/AOh14GjItLO18hA7cRs9gw3hKmKcAWXZxol8OQVDIz84Ug=s64",
      "userId": "02246152154574898479"
     },
     "user_tz": -330
    },
    "id": "KxNRJMcuXxPP",
    "outputId": "a0f90729-9677-400c-8c26-9d25edf3166f"
   },
   "outputs": [
    {
     "name": "stdout",
     "output_type": "stream",
     "text": [
      "<tensorflow.python.keras.engine.sequential.Sequential object at 0x7f52e24b1ac8>\n"
     ]
    }
   ],
   "source": [
    "print(model)"
   ]
  },
  {
   "cell_type": "code",
   "execution_count": 120,
   "metadata": {
    "executionInfo": {
     "elapsed": 1432,
     "status": "ok",
     "timestamp": 1604382851405,
     "user": {
      "displayName": "Shobhit Ram Chaurasiya",
      "photoUrl": "https://lh3.googleusercontent.com/a-/AOh14GjItLO18hA7cRs9gw3hKmKcAWXZxol8OQVDIz84Ug=s64",
      "userId": "02246152154574898479"
     },
     "user_tz": -330
    },
    "id": "GTEb65jXab5A"
   },
   "outputs": [],
   "source": [
    "# predicting an image\n",
    "from keras.preprocessing import image\n",
    "import numpy as np\n",
    "image_path = \"/content/0162027.jpg\"\n",
    "new_img = image.load_img(image_path, target_size=(224, 224))\n",
    "img = image.img_to_array(new_img)\n",
    "img = np.expand_dims(img, axis=0)\n",
    "img = img/255"
   ]
  },
  {
   "cell_type": "code",
   "execution_count": 121,
   "metadata": {
    "executionInfo": {
     "elapsed": 773,
     "status": "ok",
     "timestamp": 1604382851406,
     "user": {
      "displayName": "Shobhit Ram Chaurasiya",
      "photoUrl": "https://lh3.googleusercontent.com/a-/AOh14GjItLO18hA7cRs9gw3hKmKcAWXZxol8OQVDIz84Ug=s64",
      "userId": "02246152154574898479"
     },
     "user_tz": -330
    },
    "id": "uY8tWDVQXxSG"
   },
   "outputs": [],
   "source": [
    "prediction = model.predict(img)"
   ]
  },
  {
   "cell_type": "code",
   "execution_count": 122,
   "metadata": {
    "colab": {
     "base_uri": "https://localhost:8080/"
    },
    "executionInfo": {
     "elapsed": 1137,
     "status": "ok",
     "timestamp": 1604382853182,
     "user": {
      "displayName": "Shobhit Ram Chaurasiya",
      "photoUrl": "https://lh3.googleusercontent.com/a-/AOh14GjItLO18hA7cRs9gw3hKmKcAWXZxol8OQVDIz84Ug=s64",
      "userId": "02246152154574898479"
     },
     "user_tz": -330
    },
    "id": "urhaqCm3XxVQ",
    "outputId": "aa8795ac-82b6-41de-9650-fefd7827ddc0"
   },
   "outputs": [
    {
     "name": "stdout",
     "output_type": "stream",
     "text": [
      "[[1.10219503e-07 1.03491982e-09 2.39763864e-07 5.99216099e-09\n",
      "  1.67710990e-09 2.46288046e-10 2.04481427e-08 1.51032418e-05\n",
      "  4.70387167e-05 3.84412658e-07 3.20266935e-07 1.11025400e-07\n",
      "  2.24638919e-04 4.57258375e-06 3.24843624e-10 1.01149666e-07\n",
      "  9.85443354e-01 1.64403264e-08 1.32394973e-06 1.68490433e-09\n",
      "  1.53387919e-06 1.23225086e-09 1.68064174e-09 2.86112112e-09\n",
      "  3.50841300e-10 2.18013376e-08 7.67031025e-08 2.79582424e-09\n",
      "  1.32788122e-02 9.67705040e-04 5.98009092e-06 3.04265740e-07\n",
      "  9.99071830e-08 7.58393459e-10 3.33595290e-10 8.04465890e-06\n",
      "  1.34082711e-07 1.77084800e-08]]\n"
     ]
    }
   ],
   "source": [
    "print(prediction)"
   ]
  },
  {
   "cell_type": "code",
   "execution_count": 123,
   "metadata": {
    "executionInfo": {
     "elapsed": 1362,
     "status": "ok",
     "timestamp": 1604382854631,
     "user": {
      "displayName": "Shobhit Ram Chaurasiya",
      "photoUrl": "https://lh3.googleusercontent.com/a-/AOh14GjItLO18hA7cRs9gw3hKmKcAWXZxol8OQVDIz84Ug=s64",
      "userId": "02246152154574898479"
     },
     "user_tz": -330
    },
    "id": "-qcfNt4xXxh1"
   },
   "outputs": [],
   "source": [
    "# image preprocessing\n",
    "from keras.preprocessing.image import ImageDataGenerator\n",
    "\n",
    "train_datagen = ImageDataGenerator(rescale=1./255,\n",
    "                                   shear_range=0.2,\n",
    "                                   zoom_range=0.2,\n",
    "                                   width_shift_range=0.2,\n",
    "                                   height_shift_range=0.2,\n",
    "                                   fill_mode='nearest')\n",
    "\n",
    "valid_datagen = ImageDataGenerator(rescale=1./255)\n",
    "\n",
    "batch_size = 128"
   ]
  },
  {
   "cell_type": "code",
   "execution_count": 124,
   "metadata": {
    "colab": {
     "base_uri": "https://localhost:8080/"
    },
    "executionInfo": {
     "elapsed": 2931,
     "status": "ok",
     "timestamp": 1604382858463,
     "user": {
      "displayName": "Shobhit Ram Chaurasiya",
      "photoUrl": "https://lh3.googleusercontent.com/a-/AOh14GjItLO18hA7cRs9gw3hKmKcAWXZxol8OQVDIz84Ug=s64",
      "userId": "02246152154574898479"
     },
     "user_tz": -330
    },
    "id": "-gpajNJia_2h",
    "outputId": "3f55f994-7f10-4c89-b626-d75767b6f29d"
   },
   "outputs": [
    {
     "name": "stdout",
     "output_type": "stream",
     "text": [
      "Found 70399 images belonging to 38 classes.\n"
     ]
    }
   ],
   "source": [
    "training_set = train_datagen.flow_from_directory('/content/drive/My Drive/Colab Notebooks/PLANT DISEASE/New Plant Diseases /train',\n",
    "                                                 target_size=(224, 224),\n",
    "                                                 batch_size=batch_size,\n",
    "                                                 class_mode='categorical')"
   ]
  },
  {
   "cell_type": "code",
   "execution_count": 125,
   "metadata": {
    "colab": {
     "base_uri": "https://localhost:8080/"
    },
    "executionInfo": {
     "elapsed": 829,
     "status": "ok",
     "timestamp": 1604382860021,
     "user": {
      "displayName": "Shobhit Ram Chaurasiya",
      "photoUrl": "https://lh3.googleusercontent.com/a-/AOh14GjItLO18hA7cRs9gw3hKmKcAWXZxol8OQVDIz84Ug=s64",
      "userId": "02246152154574898479"
     },
     "user_tz": -330
    },
    "id": "BcoEmJkebNQO",
    "outputId": "a7d1b6ab-cd52-49c7-ce64-57ec04a620dc"
   },
   "outputs": [
    {
     "name": "stdout",
     "output_type": "stream",
     "text": [
      "{'Apple___Apple_scab': 0, 'Apple___Black_rot': 1, 'Apple___Cedar_apple_rust': 2, 'Apple___healthy': 3, 'Blueberry___healthy': 4, 'Cherry_(including_sour)___Powdery_mildew': 5, 'Cherry_(including_sour)___healthy': 6, 'Corn_(maize)___Cercospora_leaf_spot Gray_leaf_spot': 7, 'Corn_(maize)___Common_rust_': 8, 'Corn_(maize)___Northern_Leaf_Blight': 9, 'Corn_(maize)___healthy': 10, 'Grape___Black_rot': 11, 'Grape___Esca_(Black_Measles)': 12, 'Grape___Leaf_blight_(Isariopsis_Leaf_Spot)': 13, 'Grape___healthy': 14, 'Orange___Haunglongbing_(Citrus_greening)': 15, 'Peach___Bacterial_spot': 16, 'Peach___healthy': 17, 'Pepper,_bell___Bacterial_spot': 18, 'Pepper,_bell___healthy': 19, 'Potato___Early_blight': 20, 'Potato___Late_blight': 21, 'Potato___healthy': 22, 'Raspberry___healthy': 23, 'Soybean___healthy': 24, 'Squash___Powdery_mildew': 25, 'Strawberry___Leaf_scorch': 26, 'Strawberry___healthy': 27, 'Tomato___Bacterial_spot': 28, 'Tomato___Early_blight': 29, 'Tomato___Late_blight': 30, 'Tomato___Leaf_Mold': 31, 'Tomato___Septoria_leaf_spot': 32, 'Tomato___Spider_mites Two-spotted_spider_mite': 33, 'Tomato___Target_Spot': 34, 'Tomato___Tomato_Yellow_Leaf_Curl_Virus': 35, 'Tomato___Tomato_mosaic_virus': 36, 'Tomato___healthy': 37}\n",
      "['Apple___Apple_scab', 'Apple___Black_rot', 'Apple___Cedar_apple_rust', 'Apple___healthy', 'Blueberry___healthy', 'Cherry_(including_sour)___Powdery_mildew', 'Cherry_(including_sour)___healthy', 'Corn_(maize)___Cercospora_leaf_spot Gray_leaf_spot', 'Corn_(maize)___Common_rust_', 'Corn_(maize)___Northern_Leaf_Blight', 'Corn_(maize)___healthy', 'Grape___Black_rot', 'Grape___Esca_(Black_Measles)', 'Grape___Leaf_blight_(Isariopsis_Leaf_Spot)', 'Grape___healthy', 'Orange___Haunglongbing_(Citrus_greening)', 'Peach___Bacterial_spot', 'Peach___healthy', 'Pepper,_bell___Bacterial_spot', 'Pepper,_bell___healthy', 'Potato___Early_blight', 'Potato___Late_blight', 'Potato___healthy', 'Raspberry___healthy', 'Soybean___healthy', 'Squash___Powdery_mildew', 'Strawberry___Leaf_scorch', 'Strawberry___healthy', 'Tomato___Bacterial_spot', 'Tomato___Early_blight', 'Tomato___Late_blight', 'Tomato___Leaf_Mold', 'Tomato___Septoria_leaf_spot', 'Tomato___Spider_mites Two-spotted_spider_mite', 'Tomato___Target_Spot', 'Tomato___Tomato_Yellow_Leaf_Curl_Virus', 'Tomato___Tomato_mosaic_virus', 'Tomato___healthy']\n"
     ]
    }
   ],
   "source": [
    "class_dict = training_set.class_indices\n",
    "print(class_dict)\n",
    "li = list(class_dict.keys())\n",
    "print(li)"
   ]
  },
  {
   "cell_type": "code",
   "execution_count": 126,
   "metadata": {
    "executionInfo": {
     "elapsed": 669,
     "status": "ok",
     "timestamp": 1604382860649,
     "user": {
      "displayName": "Shobhit Ram Chaurasiya",
      "photoUrl": "https://lh3.googleusercontent.com/a-/AOh14GjItLO18hA7cRs9gw3hKmKcAWXZxol8OQVDIz84Ug=s64",
      "userId": "02246152154574898479"
     },
     "user_tz": -330
    },
    "id": "f6nimRFea_5O"
   },
   "outputs": [],
   "source": [
    "d = prediction.flatten()\n",
    "j = d.max()\n",
    "for index,item in enumerate(d):\n",
    "    if item == j:\n",
    "        class_name = li[index]"
   ]
  },
  {
   "cell_type": "code",
   "execution_count": 127,
   "metadata": {
    "colab": {
     "base_uri": "https://localhost:8080/",
     "height": 35
    },
    "executionInfo": {
     "elapsed": 1098,
     "status": "ok",
     "timestamp": 1604382862052,
     "user": {
      "displayName": "Shobhit Ram Chaurasiya",
      "photoUrl": "https://lh3.googleusercontent.com/a-/AOh14GjItLO18hA7cRs9gw3hKmKcAWXZxol8OQVDIz84Ug=s64",
      "userId": "02246152154574898479"
     },
     "user_tz": -330
    },
    "id": "Vn8JkPJbkvUu",
    "outputId": "a584c472-a626-4646-ace6-eb44bfb1e323"
   },
   "outputs": [
    {
     "data": {
      "application/vnd.google.colaboratory.intrinsic+json": {
       "type": "string"
      },
      "text/plain": [
       "'Peach___Bacterial_spot'"
      ]
     },
     "execution_count": 127,
     "metadata": {
      "tags": []
     },
     "output_type": "execute_result"
    }
   ],
   "source": [
    "class_name"
   ]
  },
  {
   "cell_type": "code",
   "execution_count": 128,
   "metadata": {
    "colab": {
     "base_uri": "https://localhost:8080/",
     "height": 264
    },
    "executionInfo": {
     "elapsed": 1803,
     "status": "ok",
     "timestamp": 1604382867297,
     "user": {
      "displayName": "Shobhit Ram Chaurasiya",
      "photoUrl": "https://lh3.googleusercontent.com/a-/AOh14GjItLO18hA7cRs9gw3hKmKcAWXZxol8OQVDIz84Ug=s64",
      "userId": "02246152154574898479"
     },
     "user_tz": -330
    },
    "id": "4KTn20j5a_8T",
    "outputId": "5e4da935-d5a3-48b5-eefd-91a0fc096e48"
   },
   "outputs": [
    {
     "data": {
      "image/png": "[encoded data removed]",
      "text/plain": [
       "<Figure size 288x288 with 1 Axes>"
      ]
     },
     "metadata": {
      "needs_background": "light",
      "tags": []
     },
     "output_type": "display_data"
    }
   ],
   "source": [
    "#ploting image with predicted class name \n",
    "import matplotlib.pyplot as plt       \n",
    "plt.figure(figsize = (4,4))\n",
    "plt.imshow(new_img)\n",
    "plt.axis('off')\n",
    "plt.title(class_name)\n",
    "plt.show()"
   ]
  },
  {
   "cell_type": "code",
   "execution_count": null,
   "metadata": {
    "id": "RYPWL1Lba__M"
   },
   "outputs": [],
   "source": []
  },
  {
   "cell_type": "code",
   "execution_count": null,
   "metadata": {
    "id": "6tcgKTWgbACE"
   },
   "outputs": [],
   "source": []
  },
  {
   "cell_type": "code",
   "execution_count": null,
   "metadata": {
    "id": "KIP8XJvPbAEB"
   },
   "outputs": [],
   "source": []
  },
  {
   "cell_type": "code",
   "execution_count": null,
   "metadata": {
    "id": "XDwFwLivbAGz"
   },
   "outputs": [],
   "source": []
  }
 ],
 "metadata": {
  "accelerator": "GPU",
  "colab": {
   "collapsed_sections": [],
   "name": "plant-diseases-classification-using-alexnet.ipynb",
   "provenance": []
  },
  "kernelspec": {
   "display_name": "Python 3",
   "language": "python",
   "name": "python3"
  },
  "language_info": {
   "codemirror_mode": {
    "name": "ipython",
    "version": 3
   },
   "file_extension": ".py",
   "mimetype": "text/x-python",
   "name": "python",
   "nbconvert_exporter": "python",
   "pygments_lexer": "ipython3",
   "version": "3.7.4"
  }
 },
 "nbformat": 4,
 "nbformat_minor": 1
}
